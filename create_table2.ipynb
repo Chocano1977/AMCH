{
 "cells": [
  {
   "cell_type": "code",
   "execution_count": null,
   "id": "d2ad293b",
   "metadata": {},
   "outputs": [],
   "source": [
    "Crear una tabla en Lakehouse usando PySpark\n",
    "# filepath: raw_nb_gts_validarcargapredictores/creacion_tabla_lakehouse.ipynb\n",
    "\n",
    "# 1. Importar librerías\n",
    "from pyspark.sql import SparkSession\n",
    "from pyspark.sql.types import StructType, StructField, IntegerType, StringType"
   ]
  },
  {
   "cell_type": "code",
   "execution_count": null,
   "id": "209341dc",
   "metadata": {},
   "outputs": [],
   "source": [
    "# 2. Crear sesión de Spark\n",
    "spark = SparkSession.builder.getOrCreate()"
   ]
  },
  {
   "cell_type": "code",
   "execution_count": null,
   "id": "ec7c5fa8",
   "metadata": {},
   "outputs": [],
   "source": [
    "# 3. Definir el esquema de la tabla\n",
    "schema = StructType([\n",
    "    StructField(\"id\", IntegerType(), True),\n",
    "    StructField(\"nombre\", StringType(), True),\n",
    "    StructField(\"valor\", IntegerType(), True)\n",
    "])\n"
   ]
  },
  {
   "cell_type": "code",
   "execution_count": null,
   "id": "21fdfea8",
   "metadata": {},
   "outputs": [],
   "source": [
    "# 5. Escribir el DataFrame como tabla en el Lakehouse (formato Delta)\n",
    "lakehouse_path = \"Tables/mi_tabla_lakehouse\""
   ]
  }
 ],
 "metadata": {
  "language_info": {
   "name": "python"
  }
 },
 "nbformat": 4,
 "nbformat_minor": 5
}
