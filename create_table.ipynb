{
 "cells": [
  {
   "cell_type": "code",
   "execution_count": null,
   "id": "d2ad293b",
   "metadata": {},
   "outputs": [],
   "source": [
    "#Crear una tabla en Lakehouse usando PySpark\n",
    "# filepath: raw_nb_gts_validarcargapredictores/creacion_tabla_lakehouse.ipynb\n",
    "\n",
    "# 1. Importar librerías\n",
    "from pyspark.sql import SparkSession\n",
    "from pyspark.sql.types import StructType, StructField, IntegerType, StringType"
   ]
  },
  {
   "cell_type": "code",
   "execution_count": null,
   "id": "209341dc",
   "metadata": {},
   "outputs": [],
   "source": [
    "# 2. Crear sesión de Spark\n",
    "spark = SparkSession.builder.getOrCreate()"
   ]
  },
  {
   "cell_type": "code",
   "execution_count": null,
   "id": "ec7c5fa8",
   "metadata": {},
   "outputs": [],
   "source": [
    "# 3. Definir el esquema de la tabla\n",
    "# Nota: id e id2 actuarán como clave primaria compuesta (no soportado nativamente en Delta Lake)\n",
    "schema = StructType([\n",
    "    StructField(\"pk_id\", StringType(), True),\n",
    "    StructField(\"id\", IntegerType(), True),\n",
    "    StructField(\"id2\", IntegerType(), True),\n",
    "    StructField(\"nombre\", StringType(), True),\n",
    "    StructField(\"valor\", IntegerType(), True)\n",
    "])\n"
   ]
  },
  {
   "cell_type": "code",
   "execution_count": null,
   "id": "b2d829d4",
   "metadata": {},
   "outputs": [],
   "source": [
    "# 4. Crear un DataFrame de ejemplo\n",
    "df= spark.createDataFrame([], schema)"
   ]
  },
  {
   "cell_type": "code",
   "execution_count": null,
   "id": "21fdfea8",
   "metadata": {},
   "outputs": [],
   "source": [
    "# 5. Escribir el DataFrame como tabla en el Lakehouse (formato Delta)\n",
    "lakehouse_path = \"Tables/mi_tabla_lakehouse\"\n",
    "df.write.format(\"delta\").mode(\"append\").option(\"mergeSchema\", \"true\").save(lakehouse_path)"
   ]
  },
  {
   "cell_type": "code",
   "execution_count": null,
   "id": "b47798bc",
   "metadata": {},
   "outputs": [],
   "source": [
    "# 6. Registrar la tabla en el catálogo de Spark (opcional)\n",
    "spark.sql(f\"\"\"\n",
    "    CREATE TABLE IF NOT EXISTS mi_tabla_lakehouse\n",
    "    (\n",
    "        pk_id STRING,\n",
    "        -- Clave primaria compuesta (no soportada nativamente, solo informativa)\n",
    "        id INT,\n",
    "        id2 INT,\n",
    "        nombre STRING,\n",
    "        valor INT\n",
    "    )\n",
    "    USING DELTA\n",
    "    LOCATION '{lakehouse_path}'\n",
    "    COMMENT 'PRIMARY KEY (id, id2) - No soportado nativamente, solo informativo'\n",
    "\"\"\")"
   ]
  },
  {
   "cell_type": "code",
   "execution_count": null,
   "id": "283ec2d8",
   "metadata": {},
   "outputs": [],
   "source": [
    "# 7. Consultar la tabla creada\n",
    "df_leida = spark.read.format(\"delta\").load(lakehouse_path)\n",
    "df_leida.show()"
   ]
  }
 ],
 "metadata": {
  "kernelspec": {
   "display_name": "Python 3",
   "language": "python",
   "name": "python3"
  },
  "language_info": {
   "codemirror_mode": {
    "name": "ipython",
    "version": 3
   },
   "file_extension": ".py",
   "mimetype": "text/x-python",
   "name": "python",
   "nbconvert_exporter": "python",
   "pygments_lexer": "ipython3",
   "version": "3.11.2"
  }
 },
 "nbformat": 4,
 "nbformat_minor": 5
}
