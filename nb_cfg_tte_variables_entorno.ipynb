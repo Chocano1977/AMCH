{
 "cells": [
  {
   "cell_type": "code",
   "execution_count": null,
   "id": "1cd5bc46",
   "metadata": {},
   "outputs": [],
   "source": [
    "import json\n",
    "\n",
    "# Definición de variables globales en un diccionario\n",
    "variables_entorno={\n",
    "    \"prefijo_workspace\":\"ws_tte.poc_data_\",\n",
    "    \"listado_entornos\":[\"dev\",\"pre\",\"pro\"],\n",
    "    \"variables_entornos\":{\n",
    "        \"dev\":\n",
    "            {\"entorno\":\"dev\",\n",
    "             \"desarrollo\":\"True\",\n",
    "             #ID lakehouse ctrl_lh_app1\n",
    "             \"wh_control_conexion_id\":\"e470545e9-2637-44f7-bbae-1bbb8dea0322\",\n",
    "             #SQL Server de lakehouse ctrl_lh_app1\n",
    "             \"wh_control_conexion_sql\":\"rbscf2kjo6bepj2mxdgfgsmxwi-lfdsnkxcszaula7peprjjgsdia.datawarehouse.fabric.microsoft.com\",  \n",
    "             #Destinatario de correos para alertas buzon CCSI             \n",
    "             \"destinatario_correos_alerta\":\"DSI.DYT.CCSI@enagas.es\"\n",
    "            },\n",
    "       # \"pre\":\n",
    "        #    {\"entorno\":\"pre\",\n",
    "        #    \"desarrollo\":\"False\",\n",
    "        #   \"wh_control_conexion_id\":\"e7a748b0-0ac2-4710-9bab-1697510f599c\",\n",
    "        #     \"wh_control_conexion_sql\":\"rbscf2kjo6bepj2mxdgfgsmxwi-euknekt5mgauljdvezv3r43epi.datawarehouse.fabric.microsoft.com\",\n",
    "        #     \"destinatario_correos_alerta\":\"DSI.DYT.CCSI@enagas.es\"\n",
    "        #    },\n",
    "        #\"pro\":\n",
    "        #    {\"entorno\":\"pro\",\n",
    "        #     \"desarrollo\":\"False\",\n",
    "        #     \"wh_control_conexion_id\":\"c7262ca7-9e29-4488-9c4a-e5a5b4968c60\",\n",
    "        #     \"wh_control_conexion_sql\":\"rbscf2kjo6bepj2mxdgfgsmxwi-wxobfl7zpqcebg7znppqfyetca.datawarehouse.fabric.microsoft.com\",\n",
    "        #     \"destinatario_correos_alerta\":\"DSI.DYT.CCSI@enagas.es\"\n",
    "        #    }  \n",
    "    }\n",
    "}\n",
    "\n",
    "# Extracción del prefijo de workspace y se quita para obtener el token\n",
    "prefijo_workspace = variables_entorno[\"prefijo_workspace\"]\n",
    "token_entorno = mssparkutils.env.getWorkspaceName().removeprefix(prefijo_workspace)\n",
    "\n",
    "# Definición de los entornos disponibles\n",
    "listado_entornos = variables_entorno[\"listado_entornos\"]\n",
    "\n",
    "# Verificación si el token pertenece a los entornos disponibles\n",
    "if token_entorno in listado_entornos:\n",
    "    # Si pertenece, se carga las configuraciones del entorno correspondiente\n",
    "    lResult = variables_entorno[\"variables_entornos\"][token_entorno]\n",
    "\n",
    "# Se finaliza la ejecución del notebook enviando el resultado en formato JSON\n",
    "mssparkutils.notebook.exit(json.dumps(lResult))"
   ]
  }
 ],
 "metadata": {
  "language_info": {
   "name": "python"
  }
 },
 "nbformat": 4,
 "nbformat_minor": 5
}
